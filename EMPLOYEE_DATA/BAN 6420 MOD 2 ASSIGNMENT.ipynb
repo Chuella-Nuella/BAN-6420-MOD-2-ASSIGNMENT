{
 "cells": [
  {
   "cell_type": "code",
   "execution_count": null,
   "id": "a172e4a0-3dc8-4347-8f3c-a3c993a88af9",
   "metadata": {},
   "outputs": [],
   "source": [
    "# Assignment 2 Project for Course BAN6420 (Programming in Python and R)\n",
    "\n",
    "\"\"\"\n",
    "Task 0 : Import the provided salary data from kaggle into your Jupyter Notebook.\n",
    "Task 1 : Develop a Python function that accepts an employee's name as input and returns their details.\n",
    "Task 2 : Data processing with Dictionary\n",
    "Task 4 : Error Handling:\n",
    "Task 5 : Export an employee's details to a CSV file and save it within a zipped folder named \"Employee Profile.\"\n",
    "\"\"\""
   ]
  },
  {
   "cell_type": "code",
   "execution_count": 1,
   "id": "e96a53f0-5c06-43a2-aa5d-5eaba78d286c",
   "metadata": {},
   "outputs": [],
   "source": [
    "# Import needed packages\n",
    "import pandas as pd, zipfile, os"
   ]
  },
  {
   "cell_type": "code",
   "execution_count": 3,
   "id": "b79570cd-0c28-4401-ba6e-c1420ee1c2c4",
   "metadata": {},
   "outputs": [
    {
     "name": "stdout",
     "output_type": "stream",
     "text": [
      "{'message': \"[Errno 2] No such file or directory: 'Total.csv'\"}\n"
     ]
    }
   ],
   "source": [
    "# Task 0: Import the provided salary data from kaggle into your Jupyter Notebook.\n",
    "\n",
    "try: # Task 4: Error Handling:\n",
    "\n",
    "    file_path = \"Total.csv\"\n",
    "    salary_data = pd.read_csv(filepath_or_buffer=file_path, low_memory=False)\n",
    "\n",
    "# Error Handling for Exception  (Task 4)\n",
    "except Exception as e:\n",
    "    error_message = {\"message\":str(e)}\n",
    "    print(error_message)"
   ]
  },
  {
   "cell_type": "code",
   "execution_count": 7,
   "id": "75af2a0a-6a97-4351-8690-ba9ca60972a7",
   "metadata": {},
   "outputs": [],
   "source": [
    "# Task 1: Develop a Python function that accepts an employee's name as input and returns their details.\n",
    "def salary_function(employee_name:str) -> pd.DataFrame:\n",
    "    \"\"\"\n",
    "    - This function accepts employee_name argument\n",
    "    - Returns employee data\n",
    "    \"\"\"\n",
    "    try: # Task 4: Error Handling:\n",
    "        \n",
    "        employee_info = salary_data.query(f\"EmployeeName == '{employee_name}'\")\n",
    "        return employee_info\n",
    "    \n",
    "    # Error Handling for Exception  (Task 4)\n",
    "    except Exception as e:\n",
    "        error_message = {\"message\":str(e)}\n",
    "        print(error_message)"
   ]
  },
  {
   "cell_type": "code",
   "execution_count": null,
   "id": "9b7afa29-5719-4494-aad1-dac8ba5ea99d",
   "metadata": {},
   "outputs": [],
   "source": [
    "# Task 3: Data processing with Dictionary\n",
    "def main():\n",
    "\n",
    "\n",
    "    try:  # Task 4: Error Handling:\n",
    "\n",
    "        # Input the Employee name\n",
    "        employee_name = input(\"Input Employee name: \")\n",
    "        employee_data = salary_function(employee_name=employee_name)\n",
    "\n",
    "\n",
    "        # Form a dictionary using the employee data to process the salary\n",
    "        employee_salary = {\n",
    "            \"EmployeeName\": employee_data[\"EmployeeName\"].iat[0],\n",
    "            \"JobTitle\": employee_data[\"JobTitle\"].iat[0],\n",
    "            \"BasePay\": employee_data[\"BasePay\"].iat[0],\n",
    "            \"OvertimePay\": employee_data[\"OvertimePay\"].iat[0],\n",
    "            \"OtherPay\": employee_data[\"OtherPay\"].iat[0],\n",
    "            \"Benefits\": employee_data[\"Benefits\"].iat[0],\n",
    "            \"TotalPay\": employee_data[\"TotalPay\"].iat[0],\n",
    "            \"TotalPayBenefits\": employee_data[\"TotalPayBenefits\"].iat[0],\n",
    "            \"Year\": employee_data[\"Year\"].iat[0]\n",
    "        }\n",
    "        \n",
    "\n",
    "        # Task 5: Save employee data within a zipped folder named \"Employee Profile.\"\n",
    "        with zipfile.ZipFile(\"Employee Profile.zip\", \"w\") as zipf:\n",
    "\n",
    "            # Export employee's details to a CSV file \n",
    "            employee_export_data = pd.DataFrame([employee_salary])\n",
    "            employee_export_data.to_csv(\"Employee Profile.csv\", header=True, mode=\"w\", index=False)\n",
    "\n",
    "            zipf.write(\"Employee Profile.csv\")\n",
    "            zipf.close(); os.remove(\"Employee Profile.csv\")\n",
    "            print(\"The Employee data has been proccessed and zipped\")\n",
    "\n",
    "\n",
    "    # Error Handling for Exception (Task 4)\n",
    "    except Exception as e:\n",
    "        error_message = {\"message\":str(e)}\n",
    "        print(error_message)\n",
    "\n",
    "\n",
    "if __name__ == \"__main__\":\n",
    "    main()"
   ]
  },
  {
   "cell_type": "code",
   "execution_count": null,
   "id": "088fac44-bf91-4339-ad95-dc6848d955de",
   "metadata": {},
   "outputs": [],
   "source": []
  }
 ],
 "metadata": {
  "kernelspec": {
   "display_name": "Python 3 (ipykernel)",
   "language": "python",
   "name": "python3"
  },
  "language_info": {
   "codemirror_mode": {
    "name": "ipython",
    "version": 3
   },
   "file_extension": ".py",
   "mimetype": "text/x-python",
   "name": "python",
   "nbconvert_exporter": "python",
   "pygments_lexer": "ipython3",
   "version": "3.12.7"
  }
 },
 "nbformat": 4,
 "nbformat_minor": 5
}
